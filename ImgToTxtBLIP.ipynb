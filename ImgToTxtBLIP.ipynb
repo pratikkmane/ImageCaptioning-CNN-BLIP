# Install required libraries
!pip install transformers torch torchvision pillow --quiet

from transformers import BlipProcessor, BlipForConditionalGeneration
from PIL import Image
from google.colab import files
from IPython.display import display, Image as IPImage

# Step 1: Upload Image
def upload_image():
    print("Please upload an image:")
    uploaded = files.upload()
    if uploaded:
        image_path = list(uploaded.keys())[0]
        return image_path
    else:
        print("No image uploaded. Please try again.")
        return None

# Step 2: Load Pre-trained BLIP Model
def load_blip_model():
    processor = BlipProcessor.from_pretrained("Salesforce/blip-image-captioning-base")
    model = BlipForConditionalGeneration.from_pretrained("Salesforce/blip-image-captioning-base")
    return processor, model

# Step 3: Generate Caption
def generate_caption(image_path, processor, model):
    try:
        # Load and preprocess the image
        image = Image.open(image_path).convert("RGB")
        inputs = processor(images=image, return_tensors="pt")

        # Generate caption
        outputs = model.generate(**inputs, max_new_tokens=30, num_beams=5)
        caption = processor.decode(outputs[0], skip_special_tokens=True)

        # Display the image and the caption
        print("\nGenerated Caption:", caption)
        display(IPImage(image_path))  # Display the uploaded image
        print(f"Caption: {caption}")

        return caption
    except Exception as e:
        print(f"Error generating caption: {e}")
        return None

# Step 4: Main Function
def main():
    # Step 1: Upload Image
    image_path = upload_image()
    if not image_path:
        return

    # Step 2: Load Model
    processor, model = load_blip_model()

    # Step 3: Generate and Display Caption
    generate_caption(image_path, processor, model)

# Run the main function
main()